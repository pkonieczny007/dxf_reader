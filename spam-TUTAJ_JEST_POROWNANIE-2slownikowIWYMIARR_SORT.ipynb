{
 "cells": [
  {
   "cell_type": "code",
   "execution_count": 1,
   "id": "b784671f",
   "metadata": {},
   "outputs": [],
   "source": [
    "import pandas as pd\n"
   ]
  },
  {
   "cell_type": "code",
   "execution_count": 2,
   "id": "88b8d363",
   "metadata": {},
   "outputs": [],
   "source": [
    "z1 = pd.read_excel('z1.xlsx')"
   ]
  },
  {
   "cell_type": "code",
   "execution_count": 8,
   "id": "328e5d7d",
   "metadata": {},
   "outputs": [],
   "source": [
    "dxf_series = z1['nazwa_dxf']"
   ]
  },
  {
   "cell_type": "code",
   "execution_count": 9,
   "id": "554b12f2",
   "metadata": {},
   "outputs": [],
   "source": [
    "wykaz_series = z1['nazwa_wykaz']\n"
   ]
  },
  {
   "cell_type": "code",
   "execution_count": 18,
   "id": "1372447d",
   "metadata": {},
   "outputs": [],
   "source": [
    "def fx(x):\n",
    "    return x+2\n"
   ]
  },
  {
   "cell_type": "code",
   "execution_count": 24,
   "id": "8f7f491c",
   "metadata": {},
   "outputs": [
    {
     "ename": "NameError",
     "evalue": "name 'i' is not defined",
     "output_type": "error",
     "traceback": [
      "\u001b[0;31m---------------------------------------------------------------------------\u001b[0m",
      "\u001b[0;31mNameError\u001b[0m                                 Traceback (most recent call last)",
      "Input \u001b[0;32mIn [24]\u001b[0m, in \u001b[0;36m<cell line: 1>\u001b[0;34m()\u001b[0m\n\u001b[0;32m----> 1\u001b[0m l1 \u001b[38;5;241m=\u001b[39m [\u001b[43mi\u001b[49m\u001b[38;5;241m+\u001b[39m\u001b[38;5;241m2\u001b[39m,i\u001b[38;5;241m+\u001b[39m\u001b[38;5;241m1\u001b[39m,\u001b[38;5;241m3\u001b[39m]\n",
      "\u001b[0;31mNameError\u001b[0m: name 'i' is not defined"
     ]
    }
   ],
   "source": [
    "l1 = [i+2,i+1,3]"
   ]
  },
  {
   "cell_type": "code",
   "execution_count": 27,
   "id": "c59fdf1e",
   "metadata": {},
   "outputs": [
    {
     "ename": "TypeError",
     "evalue": "can only concatenate list (not \"int\") to list",
     "output_type": "error",
     "traceback": [
      "\u001b[0;31m---------------------------------------------------------------------------\u001b[0m",
      "\u001b[0;31mTypeError\u001b[0m                                 Traceback (most recent call last)",
      "Input \u001b[0;32mIn [27]\u001b[0m, in \u001b[0;36m<cell line: 1>\u001b[0;34m()\u001b[0m\n\u001b[1;32m      1\u001b[0m \u001b[38;5;28mprint\u001b[39m(\n\u001b[0;32m----> 2\u001b[0m     \u001b[38;5;28mmap\u001b[39m(\u001b[43mfx\u001b[49m\u001b[43m(\u001b[49m\u001b[43ml1\u001b[49m\u001b[43m)\u001b[49m,l1(\u001b[38;5;241m2\u001b[39m))\n\u001b[1;32m      3\u001b[0m )\n",
      "Input \u001b[0;32mIn [18]\u001b[0m, in \u001b[0;36mfx\u001b[0;34m(x)\u001b[0m\n\u001b[1;32m      1\u001b[0m \u001b[38;5;28;01mdef\u001b[39;00m \u001b[38;5;21mfx\u001b[39m(x):\n\u001b[0;32m----> 2\u001b[0m     \u001b[38;5;28;01mreturn\u001b[39;00m \u001b[43mx\u001b[49m\u001b[38;5;241;43m+\u001b[39;49m\u001b[38;5;241;43m2\u001b[39;49m\n",
      "\u001b[0;31mTypeError\u001b[0m: can only concatenate list (not \"int\") to list"
     ]
    }
   ],
   "source": [
    "print(\n",
    "    map(fx(l1),l1(2))\n",
    ")"
   ]
  },
  {
   "cell_type": "code",
   "execution_count": 28,
   "id": "518f3a22",
   "metadata": {},
   "outputs": [
    {
     "name": "stdout",
     "output_type": "stream",
     "text": [
      "<map object at 0x7fda343b0250>\n",
      "{16, 1, 4, 9}\n"
     ]
    }
   ],
   "source": [
    "numbers = (1, 2, 3, 4)\n",
    "result = map(lambda x: x*x, numbers)\n",
    "print(result)\n",
    "\n",
    "# converting map object to set\n",
    "numbersSquare = set(result)\n",
    "print(numbersSquare)"
   ]
  },
  {
   "cell_type": "code",
   "execution_count": 29,
   "id": "92bd530f",
   "metadata": {},
   "outputs": [
    {
     "data": {
      "text/plain": [
       "<map at 0x7fda343b0250>"
      ]
     },
     "execution_count": 29,
     "metadata": {},
     "output_type": "execute_result"
    }
   ],
   "source": [
    "result"
   ]
  },
  {
   "cell_type": "code",
   "execution_count": 30,
   "id": "fe747300",
   "metadata": {},
   "outputs": [
    {
     "data": {
      "text/plain": [
       "set()"
      ]
     },
     "execution_count": 30,
     "metadata": {},
     "output_type": "execute_result"
    }
   ],
   "source": [
    "set(result)"
   ]
  },
  {
   "cell_type": "code",
   "execution_count": 35,
   "id": "2587db78",
   "metadata": {},
   "outputs": [
    {
     "data": {
      "text/plain": [
       "6"
      ]
     },
     "execution_count": 35,
     "metadata": {},
     "output_type": "execute_result"
    }
   ],
   "source": [
    "(lambda x: 2+x if x>3 else 2)(4)"
   ]
  },
  {
   "cell_type": "code",
   "execution_count": 40,
   "id": "2d362816",
   "metadata": {},
   "outputs": [],
   "source": [
    "a =map (\n",
    "    lambda element: element, [3,2,3]\n",
    ")"
   ]
  },
  {
   "cell_type": "code",
   "execution_count": 41,
   "id": "0eead7fe",
   "metadata": {},
   "outputs": [
    {
     "name": "stdout",
     "output_type": "stream",
     "text": [
      "<map object at 0x7fda343b0f40>\n"
     ]
    }
   ],
   "source": [
    "print(a)"
   ]
  },
  {
   "cell_type": "code",
   "execution_count": 42,
   "id": "08871730",
   "metadata": {},
   "outputs": [
    {
     "name": "stdout",
     "output_type": "stream",
     "text": [
      "3\n",
      "2\n",
      "3\n"
     ]
    }
   ],
   "source": [
    "for i in a:\n",
    "    print(i)"
   ]
  },
  {
   "cell_type": "code",
   "execution_count": 46,
   "id": "28dd2409",
   "metadata": {},
   "outputs": [
    {
     "name": "stdout",
     "output_type": "stream",
     "text": [
      "5\n",
      "6\n",
      "7\n"
     ]
    }
   ],
   "source": [
    "b=map(lambda element: element +2 ,[3,4,5])\n",
    "for i in b : print(i)"
   ]
  },
  {
   "cell_type": "code",
   "execution_count": 58,
   "id": "50ec8774",
   "metadata": {},
   "outputs": [],
   "source": [
    "diki = {1:[2,3],2:[4,4],3:[3,2]}"
   ]
  },
  {
   "cell_type": "code",
   "execution_count": 59,
   "id": "0ec98573",
   "metadata": {},
   "outputs": [
    {
     "data": {
      "text/plain": [
       "{1: [2, 3], 2: [4, 4], 3: [3, 2]}"
      ]
     },
     "execution_count": 59,
     "metadata": {},
     "output_type": "execute_result"
    }
   ],
   "source": [
    "diki"
   ]
  },
  {
   "cell_type": "code",
   "execution_count": 60,
   "id": "ce22608a",
   "metadata": {},
   "outputs": [
    {
     "data": {
      "text/plain": [
       "[2, 3]"
      ]
     },
     "execution_count": 60,
     "metadata": {},
     "output_type": "execute_result"
    }
   ],
   "source": [
    "diki[1] "
   ]
  },
  {
   "cell_type": "code",
   "execution_count": 111,
   "id": "c0c648c3",
   "metadata": {},
   "outputs": [],
   "source": [
    "a = diki[3]\n",
    "b = diki[1]"
   ]
  },
  {
   "cell_type": "code",
   "execution_count": 112,
   "id": "4599baf0",
   "metadata": {},
   "outputs": [
    {
     "data": {
      "text/plain": [
       "[2, 3]"
      ]
     },
     "execution_count": 112,
     "metadata": {},
     "output_type": "execute_result"
    }
   ],
   "source": [
    "a"
   ]
  },
  {
   "cell_type": "code",
   "execution_count": 113,
   "id": "650d6afb",
   "metadata": {},
   "outputs": [],
   "source": [
    "x=sorted(str(a))"
   ]
  },
  {
   "cell_type": "code",
   "execution_count": 114,
   "id": "a1eaf0cf",
   "metadata": {},
   "outputs": [],
   "source": [
    "y=sorted(str(b))"
   ]
  },
  {
   "cell_type": "code",
   "execution_count": 115,
   "id": "65ff1450",
   "metadata": {},
   "outputs": [
    {
     "data": {
      "text/plain": [
       "True"
      ]
     },
     "execution_count": 115,
     "metadata": {},
     "output_type": "execute_result"
    }
   ],
   "source": [
    "a == b or sorted(b)"
   ]
  },
  {
   "cell_type": "code",
   "execution_count": 118,
   "id": "b9e729e6",
   "metadata": {},
   "outputs": [],
   "source": [
    "def DXF(file):\n",
    "    return {file.iloc[i,1] :[file.iloc[i,2],file.iloc[i,3]] for i in range(len(file))}\n",
    "   \n",
    "def wykaz(file):\n",
    "    return {file.iloc[i,6] :[file.iloc[i,7],file.iloc[i,8]] for i in range(len(file))}\n",
    "           "
   ]
  },
  {
   "cell_type": "code",
   "execution_count": 125,
   "id": "fa74ffda",
   "metadata": {},
   "outputs": [
    {
     "data": {
      "text/plain": [
       "{'bl5_s235_sl200041_p1_GS': [100, 300],\n",
       " 'bl5_s235_sl200042_p1_1szt_G': [200, 111],\n",
       " 'bl5_s235_sl200043_p1_3szt_GS': [300, 11],\n",
       " 'bl5_s235_sl200044_p1_2szt_GS': [400, 23]}"
      ]
     },
     "execution_count": 125,
     "metadata": {},
     "output_type": "execute_result"
    }
   ],
   "source": [
    " d=DXF(z1)\n",
    "d"
   ]
  },
  {
   "cell_type": "code",
   "execution_count": 120,
   "id": "13021114",
   "metadata": {},
   "outputs": [
    {
     "data": {
      "text/html": [
       "<div>\n",
       "<style scoped>\n",
       "    .dataframe tbody tr th:only-of-type {\n",
       "        vertical-align: middle;\n",
       "    }\n",
       "\n",
       "    .dataframe tbody tr th {\n",
       "        vertical-align: top;\n",
       "    }\n",
       "\n",
       "    .dataframe thead th {\n",
       "        text-align: right;\n",
       "    }\n",
       "</style>\n",
       "<table border=\"1\" class=\"dataframe\">\n",
       "  <thead>\n",
       "    <tr style=\"text-align: right;\">\n",
       "      <th></th>\n",
       "      <th>lp</th>\n",
       "      <th>nazwa_dxf</th>\n",
       "      <th>x</th>\n",
       "      <th>y</th>\n",
       "      <th>uwaga</th>\n",
       "      <th>lp.1</th>\n",
       "      <th>nazwa_wykaz</th>\n",
       "      <th>abmess1</th>\n",
       "      <th>abmess2</th>\n",
       "      <th>gatunek</th>\n",
       "    </tr>\n",
       "  </thead>\n",
       "  <tbody>\n",
       "    <tr>\n",
       "      <th>0</th>\n",
       "      <td>1</td>\n",
       "      <td>bl5_s235_sl200041_p1_GS</td>\n",
       "      <td>100</td>\n",
       "      <td>300</td>\n",
       "      <td>NaN</td>\n",
       "      <td>4</td>\n",
       "      <td>bl5_s235_sl200044_p1_2szt_GS</td>\n",
       "      <td>400</td>\n",
       "      <td>23</td>\n",
       "      <td>NaN</td>\n",
       "    </tr>\n",
       "    <tr>\n",
       "      <th>1</th>\n",
       "      <td>2</td>\n",
       "      <td>bl5_s235_sl200042_p1_1szt_G</td>\n",
       "      <td>200</td>\n",
       "      <td>111</td>\n",
       "      <td>NaN</td>\n",
       "      <td>3</td>\n",
       "      <td>bl5_s235_sl200043_p1_3szt_GS</td>\n",
       "      <td>300</td>\n",
       "      <td>11</td>\n",
       "      <td>NaN</td>\n",
       "    </tr>\n",
       "    <tr>\n",
       "      <th>2</th>\n",
       "      <td>3</td>\n",
       "      <td>bl5_s235_sl200043_p1_3szt_GS</td>\n",
       "      <td>300</td>\n",
       "      <td>11</td>\n",
       "      <td>NaN</td>\n",
       "      <td>2</td>\n",
       "      <td>bl5_s235_sl200042_p1_1szt_G</td>\n",
       "      <td>200</td>\n",
       "      <td>111</td>\n",
       "      <td>NaN</td>\n",
       "    </tr>\n",
       "    <tr>\n",
       "      <th>3</th>\n",
       "      <td>4</td>\n",
       "      <td>bl5_s235_sl200044_p1_2szt_GS</td>\n",
       "      <td>400</td>\n",
       "      <td>23</td>\n",
       "      <td>NaN</td>\n",
       "      <td>1</td>\n",
       "      <td>bl4_s355_sl10000_p2_4szt_S_089</td>\n",
       "      <td>100</td>\n",
       "      <td>300</td>\n",
       "      <td>NaN</td>\n",
       "    </tr>\n",
       "  </tbody>\n",
       "</table>\n",
       "</div>"
      ],
      "text/plain": [
       "   lp                     nazwa_dxf    x    y  uwaga  lp.1  \\\n",
       "0   1       bl5_s235_sl200041_p1_GS  100  300    NaN     4   \n",
       "1   2   bl5_s235_sl200042_p1_1szt_G  200  111    NaN     3   \n",
       "2   3  bl5_s235_sl200043_p1_3szt_GS  300   11    NaN     2   \n",
       "3   4  bl5_s235_sl200044_p1_2szt_GS  400   23    NaN     1   \n",
       "\n",
       "                      nazwa_wykaz  abmess1  abmess2  gatunek  \n",
       "0    bl5_s235_sl200044_p1_2szt_GS      400       23      NaN  \n",
       "1    bl5_s235_sl200043_p1_3szt_GS      300       11      NaN  \n",
       "2     bl5_s235_sl200042_p1_1szt_G      200      111      NaN  \n",
       "3  bl4_s355_sl10000_p2_4szt_S_089      100      300      NaN  "
      ]
     },
     "execution_count": 120,
     "metadata": {},
     "output_type": "execute_result"
    }
   ],
   "source": [
    "z1"
   ]
  },
  {
   "cell_type": "code",
   "execution_count": 126,
   "id": "2acaa5b7",
   "metadata": {},
   "outputs": [
    {
     "data": {
      "text/plain": [
       "{'bl5_s235_sl200044_p1_2szt_GS': [400, 23],\n",
       " 'bl5_s235_sl200043_p1_3szt_GS': [300, 11],\n",
       " 'bl5_s235_sl200042_p1_1szt_G': [200, 111],\n",
       " 'bl4_s355_sl10000_p2_4szt_S_089': [100, 300]}"
      ]
     },
     "execution_count": 126,
     "metadata": {},
     "output_type": "execute_result"
    }
   ],
   "source": [
    "w=wykaz(z1)\n",
    "w"
   ]
  },
  {
   "cell_type": "code",
   "execution_count": 136,
   "id": "b5065400",
   "metadata": {},
   "outputs": [
    {
     "name": "stdout",
     "output_type": "stream",
     "text": [
      "bl4_s355_sl10000_p2_4szt_S_089 NIE MA DXFa w wykazie\n"
     ]
    }
   ],
   "source": [
    "for i in w:\n",
    "    \n",
    "    if i not in d:\n",
    "        print(i,'NIE MA DXFa w wykazie')"
   ]
  },
  {
   "cell_type": "code",
   "execution_count": 138,
   "id": "547ddc3c",
   "metadata": {},
   "outputs": [
    {
     "data": {
      "text/plain": [
       "['bl4_s355_sl10000_p2_4szt_S_089']"
      ]
     },
     "execution_count": 138,
     "metadata": {},
     "output_type": "execute_result"
    }
   ],
   "source": [
    "nie_ma = [i for i in w if i not in d]\n",
    "nie_ma"
   ]
  },
  {
   "cell_type": "code",
   "execution_count": 140,
   "id": "f67906e4",
   "metadata": {},
   "outputs": [
    {
     "data": {
      "text/plain": [
       "['bl5_s235_sl200044_p1_2szt_GS',\n",
       " 'bl5_s235_sl200043_p1_3szt_GS',\n",
       " 'bl5_s235_sl200042_p1_1szt_G']"
      ]
     },
     "execution_count": 140,
     "metadata": {},
     "output_type": "execute_result"
    }
   ],
   "source": [
    "jest = [i for i in w if i in d]\n",
    "jest"
   ]
  },
  {
   "cell_type": "code",
   "execution_count": 151,
   "id": "8466f677",
   "metadata": {},
   "outputs": [
    {
     "name": "stdout",
     "output_type": "stream",
     "text": [
      "bl5_s235_sl200041_p1_GS ZLA NAZWA\n",
      "bl5_s235_sl200042_p1_1szt_G nazwa dxf jest w WYKAZIE\n",
      "DOBRY WYMIAR\n",
      "bl5_s235_sl200043_p1_3szt_GS nazwa dxf jest w WYKAZIE\n",
      "DOBRY WYMIAR\n",
      "bl5_s235_sl200044_p1_2szt_GS nazwa dxf jest w WYKAZIE\n",
      "DOBRY WYMIAR\n"
     ]
    }
   ],
   "source": [
    "#POROWNANIE 2 SLOWNIKOW\n",
    "\n",
    "for i in d:\n",
    "    if i in w:\n",
    "        print(i, \"nazwa dxf jest w WYKAZIE\")\n",
    "        if d[i] == w[i] or sorted(w[i]):\n",
    "            print('DOBRY WYMIAR')\n",
    "    else: \n",
    "        print(i,'ZLA NAZWA')\n",
    "    "
   ]
  },
  {
   "cell_type": "code",
   "execution_count": 144,
   "id": "b8be8b3f",
   "metadata": {},
   "outputs": [
    {
     "name": "stdout",
     "output_type": "stream",
     "text": [
      "bl5_s235_sl200044_p1_2szt_GS jest w wykazie\n"
     ]
    },
    {
     "ename": "NameError",
     "evalue": "name 'sprawdz_wymiar' is not defined",
     "output_type": "error",
     "traceback": [
      "\u001b[0;31m---------------------------------------------------------------------------\u001b[0m",
      "\u001b[0;31mNameError\u001b[0m                                 Traceback (most recent call last)",
      "Input \u001b[0;32mIn [144]\u001b[0m, in \u001b[0;36m<cell line: 1>\u001b[0;34m()\u001b[0m\n\u001b[1;32m      2\u001b[0m \u001b[38;5;28;01mif\u001b[39;00m i \u001b[38;5;129;01min\u001b[39;00m d:\n\u001b[1;32m      3\u001b[0m     \u001b[38;5;28mprint\u001b[39m(i, \u001b[38;5;124m'\u001b[39m\u001b[38;5;124mjest w wykazie\u001b[39m\u001b[38;5;124m'\u001b[39m)\n\u001b[0;32m----> 4\u001b[0m     \u001b[43msprawdz_wymiar\u001b[49m(i)\n",
      "\u001b[0;31mNameError\u001b[0m: name 'sprawdz_wymiar' is not defined"
     ]
    }
   ],
   "source": []
  },
  {
   "cell_type": "code",
   "execution_count": null,
   "id": "2d11049e",
   "metadata": {},
   "outputs": [],
   "source": []
  }
 ],
 "metadata": {
  "kernelspec": {
   "display_name": "Python 3 (ipykernel)",
   "language": "python",
   "name": "python3"
  },
  "language_info": {
   "codemirror_mode": {
    "name": "ipython",
    "version": 3
   },
   "file_extension": ".py",
   "mimetype": "text/x-python",
   "name": "python",
   "nbconvert_exporter": "python",
   "pygments_lexer": "ipython3",
   "version": "3.9.12"
  }
 },
 "nbformat": 4,
 "nbformat_minor": 5
}
